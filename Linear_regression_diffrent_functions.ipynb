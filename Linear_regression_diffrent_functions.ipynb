{
  "nbformat": 4,
  "nbformat_minor": 0,
  "metadata": {
    "colab": {
      "name": "Linear_regression_diffrent_functions.ipynb",
      "provenance": [],
      "collapsed_sections": []
    },
    "kernelspec": {
      "display_name": "Python 3",
      "name": "python3"
    },
    "language_info": {
      "name": "python"
    }
  },
  "cells": [
    {
      "cell_type": "markdown",
      "metadata": {
        "id": "mApwQ7iOW2yg"
      },
      "source": [
        "**Import used libraries**"
      ]
    },
    {
      "cell_type": "code",
      "metadata": {
        "id": "KJ3SahTJ3uw2"
      },
      "source": [
        "import matplotlib.pyplot as plt\n",
        "import numpy as np\n",
        "import sklearn\n",
        "from sklearn.linear_model import LinearRegression\n",
        "import imageio\n",
        "import os\n",
        "from sklearn.metrics import mean_squared_error, r2_score\n",
        "from sklearn.preprocessing import PolynomialFeatures\n",
        "import operator\n",
        "import seaborn as sns\n",
        "from scipy.optimize import curve_fit "
      ],
      "execution_count": null,
      "outputs": []
    },
    {
      "cell_type": "markdown",
      "metadata": {
        "id": "Ugg0FVkamSe9"
      },
      "source": [
        "# **1. Linear function regression with normally distributed noisy data**\n",
        "\n",
        "\n"
      ]
    },
    {
      "cell_type": "code",
      "metadata": {
        "id": "xR57wfwYMNz-"
      },
      "source": [
        "x = np.array(range(0, 500, 1))\n",
        "a = 1\n",
        "b = 20\n",
        "y = a*x + b\n",
        "\n",
        "plt.figure(figsize=(20,10))\n",
        "plt.plot(x, y, color = \"r\", linewidth = 3, label= \"Prosta o równaniu y = x + 20\")\n",
        "plt.scatter(x,y, color= \"b\", label= \"Dane pomiarowe\")\n",
        "plt.xlabel(\"Wartości X\", fontsize=15.0)\n",
        "plt.ylabel(\"Wartości Y\", fontsize=15.0)\n",
        "plt.title(\"Wykres funkcji liniowej y = x + 20\", fontsize=20.0)\n",
        "plt.legend(fontsize=15.0)\n",
        "\n",
        "plt.show()"
      ],
      "execution_count": null,
      "outputs": []
    },
    {
      "cell_type": "code",
      "metadata": {
        "id": "XjwFBU4WVytT"
      },
      "source": [
        "x1 = np.array(range(0, 500, 1))\n",
        "x2 = x1.reshape(-1,1)\n",
        "\n",
        "a = 1\n",
        "b = 20\n",
        "\n",
        "y1 = (a*x2) + b # podstawowy model funkcji liniowej\n",
        "\n",
        "# dla funkcji wielomianowej y = a*x1**2 + b*x1 + c, parametry a=0.1, b=1, c=20\n",
        "# dla funkcji logarytmicznej y = np.log(a*x+b), parametry a=1, b=20\n",
        "# dla funkcji log przekształconej eksponeną y1 = np.exp(y)\n",
        "\n",
        "j = 0\n",
        "j_list = []\n",
        "\n",
        "a1_list = []\n",
        "b1_list = []\n",
        "\n",
        "a1_mean = []\n",
        "b1_mean = []\n",
        "\n",
        "a1_std = []\n",
        "b1_std = []\n",
        "\n",
        "r2_list = []\n",
        "r2_mean = []\n",
        "\n",
        "for indeks in range(100):\n",
        "  j_list.append(j)\n",
        "  for i in range(100):\n",
        "    noise = np.random.normal(0, j, 500) # zdefiniowanie szumu o rozkładzie normalnym\n",
        "    noise2 = noise.reshape(500,1)\n",
        "    y2 = y1 + noise2 # dodanie szumu do niezaszumionej funkcji \n",
        "    model = LinearRegression().fit(x2, y2) # zdefiniowanie i dopasowanie modelu regresji liniowej\n",
        "    a1 = model.coef_ # wyznaczenie współczynnika przy x\n",
        "    b1 = model.intercept_  # wyznaczenie wyrazu wolnego\n",
        "    a1_list.append(float(a1[0]))\n",
        "    b1_list.append(float(b1[0]))\n",
        "    y3 = a1*x2 + b1\n",
        "    r_sq = r2_score(y1, y3) # wyznaczenie średnich wartości współczynnika determinacji r kwadrat\n",
        "    r2_list.append(r_sq)\n",
        "    \n",
        "    # plt.figure(figsize=(20,10))\n",
        "    # plt.xlim([-50,620])\n",
        "    # plt.ylim([-50,620])\n",
        "    # plt.xlabel(\"Wartości X\", fontsize = 15.0)\n",
        "    # plt.ylabel(\"Wartości Y\", fontsize = 15.0)\n",
        "    # plt.text(-20,500,(\"Odchylenie standardowe: \" + str(round(j, 1))), fontsize=15.0)\n",
        "    # #plt.text(-20,500,(\"Odchylenie standardowe: 3\"), fontsize=15.0)\n",
        "    # plt.text(-20, 460,(\"Wartość oczekiwana: 0\"), fontsize=15.0)\n",
        "    # if b1[0] < 0:\n",
        "    #   plt.text(-20,580, (\"Równanie prostej: y = (\" + str(a1[0][0]) + \")x \" + str(b1[0])), fontsize=15.0)\n",
        "    # else:\n",
        "    #   plt.text(-20,580, (\"Równanie prostej: y = (\" + str(a1[0][0]) + \")x + \" + str(b1[0])), fontsize=15.0)\n",
        "\n",
        "    # plt.text(-20,540, (\"Współczynnik determinacji r kwadrat: \" + str(r_sq)), fontsize=15.0)\n",
        "    # plt.scatter(x2, y2, color = \"blue\", label = \"Zaszumione dane pomiarowe\")\n",
        "    # plt.plot(x2, y3, color = \"red\", linewidth = 3, label= \"Regresja liniowa\")\n",
        "    # plt.legend(fontsize=15.0, loc=4, prop={'size': 15})\n",
        "    # plt.title(\"Model regresji liniowej z Gaussowskim rozkładem szumu\", fontsize=20.0)\n",
        "  \n",
        "    \n",
        "    # if i < 10:\n",
        "    #   plt.savefig('images2/OPSI{0}.jpg'.format(i))\n",
        "    # else:\n",
        "    #   plt.savefig('images2/OPSI_{0}.jpg'.format(i))\n",
        "    \n",
        "    # plt.show()\n",
        "   \n",
        "  j += 0.1\n",
        "  mean_a = np.mean(a1_list)\n",
        "  a1_mean.append(mean_a)\n",
        "\n",
        "  mean_b = np.mean(b1_list)\n",
        "  b1_mean.append(mean_b)\n",
        "\n",
        "  std_a = np.std(a1_list)\n",
        "  a1_std.append(std_a)\n",
        "\n",
        "  std_b = np.std(b1_list)  \n",
        "  b1_std.append(std_b) \n",
        "\n",
        "  mean_r2 = np.mean(r2_list)\n",
        "  r2_mean.append(mean_r2)"
      ],
      "execution_count": null,
      "outputs": []
    },
    {
      "cell_type": "code",
      "metadata": {
        "id": "6a9ZwuyCEAw7"
      },
      "source": [
        "sns.distplot(noise, bins=40, hist_kws={'edgecolor':'black'})"
      ],
      "execution_count": null,
      "outputs": []
    },
    {
      "cell_type": "markdown",
      "metadata": {
        "id": "omcYDTDSj9Xk"
      },
      "source": [
        "**Save charts and create animations**"
      ]
    },
    {
      "cell_type": "code",
      "metadata": {
        "id": "BiHSnEwXrO6b"
      },
      "source": [
        "folder = '/content/images5'\n",
        "files = [f\"{folder}/{file}\" for file in sorted(os.listdir(folder))]\n",
        "photos = [imageio.imread(file) for file in files]\n",
        "imageio.mimwrite('/content/images5/regression_055.mkv', photos, fps=7)"
      ],
      "execution_count": null,
      "outputs": []
    },
    {
      "cell_type": "markdown",
      "metadata": {
        "id": "7HRSRTSdkCRc"
      },
      "source": [
        "**Presentation of charts**"
      ]
    },
    {
      "cell_type": "code",
      "metadata": {
        "id": "Bbq2d8VP38dE"
      },
      "source": [
        "plt.figure(figsize=(20,10))\n",
        "plt.scatter(j_list, a1_mean, color=\"green\", label=\"Średnia wartość parametru a\")\n",
        "plt.xlabel(\"Odchylenie standardowe szumu\", fontsize=15.0)\n",
        "plt.xticks(fontsize=13.0)\n",
        "plt.ylabel(\"Średnia wartość parametru a\", fontsize=15.0)\n",
        "plt.yticks(fontsize=13.0)\n",
        "#plt.text(-3,0.999983,(\"Wartość minimalna średniej parametru a : \" + str(min(a1_mean))), fontsize=12.0)\n",
        "#plt.text(-3,0.999984,(\"Wartość maksymalna średniej parametru a : \" + str(max(a1_mean))), fontsize=12.0)\n",
        "plt.title(\"Wykres zależności odchylenia standardowego szumu i średniej wartości parametru a\", fontsize=20.0)\n",
        "plt.legend(fontsize=15.0)\n",
        "plt.show()"
      ],
      "execution_count": null,
      "outputs": []
    },
    {
      "cell_type": "code",
      "metadata": {
        "id": "zChhYEhe6rnL"
      },
      "source": [
        "plt.figure(figsize=(20,10))\n",
        "plt.scatter(j_list, b1_mean, color=\"blue\", label=\"Średnia wartość parametru b\")\n",
        "plt.xlabel(\"Odchylenie standardowe szumu\", fontsize=15.0)\n",
        "plt.xticks(fontsize=13.0)\n",
        "plt.ylabel(\"Średnia wartość parametru b\", fontsize=15.0)\n",
        "plt.yticks(fontsize=13.0)\n",
        "#plt.text(-3,20.0045,(\"Wartość minimalna średniej parametru b : \" + str(min(b1_mean))), fontsize=12.0)\n",
        "#plt.text(-3,20.005,(\"Wartość maksymalna średniej parametru b : \" + str(max(b1_mean))), fontsize=12.0)\n",
        "plt.title(\"Wykres zależności odchylenia standardowego szumu i średniej wartości parametru b\", fontsize=20.0)\n",
        "plt.legend(fontsize=15.0)\n",
        "plt.show()"
      ],
      "execution_count": null,
      "outputs": []
    },
    {
      "cell_type": "code",
      "metadata": {
        "id": "NXcF2mEm6sa7"
      },
      "source": [
        "plt.figure(figsize=(20,10))\n",
        "plt.scatter(j_list, a1_std, color=\"red\", label=\"Odchylenie standardowe parametru a\")\n",
        "plt.xlabel(\"Odchylenie standardowe szumu\", fontsize=15.0)\n",
        "plt.xticks(fontsize=13.0)\n",
        "plt.ylabel(\"Odchylenie standardowe parametru a\", fontsize=15.0)\n",
        "plt.yticks(fontsize=13.0)\n",
        "plt.title(\"Wykres zależności odchylenia standardowego szumu i odchylenia standardowego parametru a\", fontsize=20.0)\n",
        "plt.legend(fontsize=15.0)\n",
        "plt.show()"
      ],
      "execution_count": null,
      "outputs": []
    },
    {
      "cell_type": "code",
      "metadata": {
        "id": "njXc7g5m6s84"
      },
      "source": [
        "plt.figure(figsize=(20,10))\n",
        "plt.scatter(j_list, b1_std, color=\"purple\", label=\"Odchylenie standardowe parametru b\")\n",
        "plt.xlabel(\"Odchylenie standardowe szumu\", fontsize=15.0)\n",
        "plt.xticks(fontsize=13.0)\n",
        "plt.ylabel(\"Odchylenie standardowe parametru b\", fontsize=15.0)\n",
        "plt.yticks(fontsize=13.0)\n",
        "plt.title(\"Wykres zależności odchylenia standardowego szumu i odchylenia standardowego parametru b\", fontsize=20.0)\n",
        "plt.legend(fontsize=15.0)\n",
        "plt.show()"
      ],
      "execution_count": null,
      "outputs": []
    },
    {
      "cell_type": "code",
      "metadata": {
        "id": "XBT6F590N1Z3"
      },
      "source": [
        "plt.figure(figsize=(20,10))\n",
        "plt.scatter(j_list, r2_mean, color=\"cyan\", label=\"Średnia wartość współczynnika determinacji r kwadrat\")\n",
        "plt.xlabel(\"Odchylenie standardowe szumu\", fontsize=15.0)\n",
        "plt.xticks(fontsize=13.0)\n",
        "plt.ylabel(\"Średnia wartość współczynnika determinacji r kwadrat\", fontsize=15.0)\n",
        "plt.yticks(fontsize=13.0)\n",
        "plt.title(\"Wykres zależności odchylenia standardowego szumu i średniej wartości współczynnika determinacji r kwadrat\", fontsize=15.0)\n",
        "plt.legend(fontsize=15.0)\n",
        "plt.savefig(\"r2_mean.jpg\")\n",
        "plt.show()"
      ],
      "execution_count": null,
      "outputs": []
    },
    {
      "cell_type": "code",
      "metadata": {
        "id": "itGnidDTgcZv"
      },
      "source": [
        "plt.figure(figsize=(20,10))\n",
        "plt.scatter(a1_list, b1_list, label = \"Wartości parametrów modelu regresji\", color=\"orange\")\n",
        "#plt.text(0.99, 19,(\"Wartość maksymalna parametru a : \" + str(max(a1_list))), fontsize=12.0)\n",
        "#plt.text(0.99,18.5,(\"Wartość minimalna parametru a : \" + str(min(a1_list))), fontsize=12.0)\n",
        "#plt.text(0.99,18,(\"Wartość maksymalna parametru b : \" + str(max(b1_list))), fontsize=12.0)\n",
        "#plt.text(0.99,17.5,(\"Wartość minimalna parametru b : \" + str(min(b1_list))), fontsize=12.0)\n",
        "plt.xlabel(\"Wartości parametru a\", fontsize = 15.0)\n",
        "plt.ylabel(\"Wartości parametru b\", fontsize = 15.0)\n",
        "plt.title(\"Rozkład wartości parametrów a i b\", fontsize = 20.0)\n",
        "plt.legend(loc=1, fontsize=15.0)"
      ],
      "execution_count": null,
      "outputs": []
    },
    {
      "cell_type": "code",
      "metadata": {
        "id": "8ejLoR0moCV_"
      },
      "source": [
        "%reset"
      ],
      "execution_count": null,
      "outputs": []
    },
    {
      "cell_type": "markdown",
      "metadata": {
        "id": "vh43RBEbkG93"
      },
      "source": [
        "## **2. Linear function regression with uniformly distributed noise data**"
      ]
    },
    {
      "cell_type": "code",
      "metadata": {
        "id": "8xOoCoNdkV37"
      },
      "source": [
        "x1 = np.array(range(0, 500, 1))\n",
        "x2 = x1.reshape(-1,1)\n",
        "\n",
        "a = 1\n",
        "b = 20\n",
        "\n",
        "y1 = (a*x2) + b\n",
        "\n",
        "j = 1\n",
        "a1_list = []\n",
        "b1_list = []\n",
        "\n",
        "a1_mean = []\n",
        "b1_mean = []\n",
        "\n",
        "a1_std = []\n",
        "b1_std = []\n",
        "\n",
        "r2_list = []\n",
        "r2_mean = []\n",
        "\n",
        "noise_std_list = []\n",
        "j_list = []\n",
        "\n",
        "    \n",
        "for indeks in range(100):\n",
        "  j_list.append(j)\n",
        "  for i in range(100):\n",
        "    noise = np.random.uniform(0, j, 500) # zdefiniowanie szumu o rozkładzie jednostajnym\n",
        "    noise2 = noise.reshape(500,1)\n",
        "    y2 = y1 + noise2  # dodanie szumu do niezaszumionej funkcji\n",
        "    model = LinearRegression().fit(x2, y2)  # zdefiniowanie i dopasowanie modelu regresji liniowej\n",
        "    a1 = model.coef_ # wyznaczenie współczynnika przy x\n",
        "    b1 = model.intercept_ # wyznaczenie wyrazu wolnego\n",
        "    a1_list.append(float(a1[0]))\n",
        "    b1_list.append(float(b1[0]))\n",
        "    y3 = a1*x2 + b1\n",
        "    r_sq = r2_score(y1, y3) # wyznaczenie średnich wartości współczynnika determinacji r kwadrat\n",
        "    r2_list.append(r_sq) \n",
        "    \n",
        "    # plt.figure(figsize=(20,10))\n",
        "    # plt.xlim([-50,620])\n",
        "    # plt.ylim([-50,620])\n",
        "    # plt.xlabel(\"Wartości X\", fontsize = 15.0)\n",
        "    # plt.ylabel(\"Wartości Y\", fontsize = 15.0)\n",
        "    # plt.text(-20,500,(\"Przedział wartości szumu o rozkładzie jednostajnym: (0, \" + str(j) + \")\"), fontsize=15.0)\n",
        "    # plt.text(-20, 460,(\"Wartość minimalna szumu: 0\"), fontsize=15.0)\n",
        "    # if b1[0] < 0:\n",
        "    #   plt.text(-20,580, (\"Równanie prostej: y = (\" + str(a1[0][0]) + \")x \" + str(b1[0])), fontsize=15.0)\n",
        "    # else:\n",
        "    #   plt.text(-20,580, (\"Równanie prostej: y = (\" + str(a1[0][0]) + \")x + \" + str(b1[0])), fontsize=15.0)\n",
        "\n",
        "    # plt.text(-20,540, (\"Współczynnik determinacji r kwadrat: \" + str(r_sq)), fontsize=15.0)\n",
        "    # plt.scatter(x2, y2, color = \"blue\", label = \"Zaszumione dane pomiarowe\")\n",
        "    # plt.plot(x2, y3, color = \"red\", linewidth = 3, label= \"Regresja liniowa\")\n",
        "    # plt.legend(fontsize=15.0, loc=4, prop={'size': 15})\n",
        "    # plt.title(\"Model regresji liniowej z jednostajnym rozkładem szumu\", fontsize=20.0)\n",
        "      \n",
        "    # if i < 10:\n",
        "    #   plt.savefig('images3/OPSI{0}.jpg'.format(i))\n",
        "    # else:\n",
        "    #   plt.savefig('images3/OPSI_{0}.jpg'.format(i))\n",
        "    \n",
        "    # plt.show()\n",
        "    \n",
        "  j += 0.5\n",
        "\n",
        "  noise_std = np.std(j_list)\n",
        "  noise_std_list.append(noise_std)\n",
        "\n",
        "  mean_a = np.mean(a1_list)\n",
        "  a1_mean.append(mean_a)\n",
        "\n",
        "  mean_b = np.mean(b1_list)\n",
        "  b1_mean.append(mean_b)\n",
        "\n",
        "  std_a = np.std(a1_list)\n",
        "  a1_std.append(std_a)\n",
        "\n",
        "  std_b = np.std(b1_list)  \n",
        "  b1_std.append(std_b) \n",
        "\n",
        "  mean_r2 = np.mean(r2_list)\n",
        "  r2_mean.append(mean_r2)\n",
        "\n",
        "\n"
      ],
      "execution_count": null,
      "outputs": []
    },
    {
      "cell_type": "code",
      "metadata": {
        "id": "nBJ0iBOgFZLA"
      },
      "source": [
        "sns.distplot(noise, bins=40, hist_kws={'edgecolor':'black'})"
      ],
      "execution_count": null,
      "outputs": []
    },
    {
      "cell_type": "markdown",
      "metadata": {
        "id": "rN3GKKRRkgQa"
      },
      "source": [
        "**Save charts and create animations**"
      ]
    },
    {
      "cell_type": "code",
      "metadata": {
        "id": "xh3aBvCOdH36"
      },
      "source": [
        "folder = '/content/images3'\n",
        "files = [f\"{folder}/{file}\" for file in sorted(os.listdir(folder))]\n",
        "photos = [imageio.imread(file) for file in files]\n",
        "imageio.mimwrite('/content/images3/regression_uniform_2.mkv', photos, fps=7)"
      ],
      "execution_count": null,
      "outputs": []
    },
    {
      "cell_type": "markdown",
      "metadata": {
        "id": "d4vACYOlklAD"
      },
      "source": [
        "**Presentation of charts**"
      ]
    },
    {
      "cell_type": "code",
      "metadata": {
        "id": "6XdVv58_krTJ"
      },
      "source": [
        "plt.figure(figsize=(20,10))\n",
        "plt.scatter(noise_std_list, a1_mean, color=\"green\", label=\"Średnia wartość parametru a\")\n",
        "plt.xlabel(\"Odchylenie standardowe szumu\", fontsize=15.0)\n",
        "plt.xticks(fontsize=13.0)\n",
        "plt.ylabel(\"Średnia wartość parametru a\", fontsize=15.0)\n",
        "plt.yticks(fontsize=13.0)\n",
        "#plt.text(-0.3,0.999972,(\"Wartość minimalna średniej parametru a : \" + str(min(a1_mean))), fontsize=12.0)\n",
        "#plt.text(-0.3,0.999975,(\"Wartość maksymalna średniej parametru a : \" + str(max(a1_mean))), fontsize=12.0)\n",
        "plt.title(\"Wykres zależności odchylenia standardowego szumu o rozkładzie jednostajnym i średniej wartości parametru a\", fontsize=15.0)\n",
        "plt.legend(fontsize=15.0)\n",
        "plt.savefig(\"mean_a.jpg\")\n",
        "plt.show()"
      ],
      "execution_count": null,
      "outputs": []
    },
    {
      "cell_type": "code",
      "metadata": {
        "id": "H2bZJOI9kxGV"
      },
      "source": [
        "plt.figure(figsize=(20,10))\n",
        "plt.scatter(noise_std_list, b1_mean, color=\"blue\", label=\"Średnia wartość parametru b\")\n",
        "plt.xlabel(\"Odchylenie standardowe szumu\", fontsize=15.0)\n",
        "plt.xticks(fontsize=13.0)\n",
        "plt.ylabel(\"Średnia wartość parametru b\", fontsize=15.0)\n",
        "plt.yticks(fontsize=13.0)\n",
        "#plt.text(0,30.5,(\"Wartość minimalna średniej parametru b : \" + str(min(b1_mean))), fontsize=12.0)\n",
        "#plt.text(0,31,(\"Wartość maksymalna średniej parametru b : \" + str(max(b1_mean))), fontsize=12.0)\n",
        "plt.title(\"Wykres zależności odchylenia standardowego szumu o rozkładzie jednostajnym i średniej wartości parametru b\", fontsize=15.0)\n",
        "plt.legend(fontsize=15.0)\n",
        "plt.savefig(\"mean_b.jpg\")\n",
        "plt.show()"
      ],
      "execution_count": null,
      "outputs": []
    },
    {
      "cell_type": "code",
      "metadata": {
        "id": "JQTUDlETkyVl"
      },
      "source": [
        "plt.figure(figsize=(20,10))\n",
        "plt.scatter(noise_std_list, a1_std, color=\"red\", label=\"Odchylenie standardowe parametru a\")\n",
        "plt.xlabel(\"Odchylenie standardowe szumu\", fontsize=15.0)\n",
        "plt.xticks(fontsize=13.0)\n",
        "plt.ylabel(\"Odchylenie standardowe parametru a\", fontsize=15.0)\n",
        "plt.yticks(fontsize=13.0)\n",
        "plt.title(\"Wykres zależności odchylenia standardowego szumu o rozkładzie jednostajnym i odchylenia standardowego parametru a\", fontsize=15.0)\n",
        "plt.legend(fontsize=15.0)\n",
        "plt.savefig(\"std_a.jpg\")\n",
        "plt.show()"
      ],
      "execution_count": null,
      "outputs": []
    },
    {
      "cell_type": "code",
      "metadata": {
        "id": "v2mszDzyk20J"
      },
      "source": [
        "plt.figure(figsize=(20,10))\n",
        "plt.scatter(noise_std_list, b1_std, color=\"purple\", label=\"Odchylenie standardowe parametru b\")\n",
        "plt.xlabel(\"Odchylenie standardowe szumu\", fontsize=15.0)\n",
        "plt.xticks(fontsize=13.0)\n",
        "plt.ylabel(\"Odchylenie standardowe parametru b\", fontsize=15.0)\n",
        "plt.yticks(fontsize=13.0)\n",
        "plt.title(\"Wykres zależności odchylenia standardowego szumu o rozkładzie jednostajnym i odchylenia standardowego parametru b\", fontsize=15.0)\n",
        "plt.legend(fontsize=15.0)\n",
        "plt.savefig(\"std_b.jpg\")\n",
        "plt.show()"
      ],
      "execution_count": null,
      "outputs": []
    },
    {
      "cell_type": "code",
      "metadata": {
        "id": "e0o5Is8mk7SH"
      },
      "source": [
        "plt.figure(figsize=(20,10))\n",
        "plt.scatter(noise_std_list, r2_mean, color=\"cyan\", label=\"Średnia wartość współczynnika determinacji r kwadrat\")\n",
        "plt.xlabel(\"Odchylenie standardowe szumu\", fontsize=15.0)\n",
        "plt.xticks(fontsize=13.0)\n",
        "plt.ylabel(\"Średnia wartość współczynnika determinacji r kwadrat\", fontsize=15.0)\n",
        "plt.yticks(fontsize=13.0)\n",
        "plt.title(\"Wykres zależności odchylenia standardowego szumu o rozkładzie jednostajnym i średniej wartości współczynnika determinacji r kwadrat\", fontsize=15.0)\n",
        "plt.legend(fontsize=15.0)\n",
        "plt.savefig(\"r2_mean.jpg\")\n",
        "plt.show()"
      ],
      "execution_count": null,
      "outputs": []
    },
    {
      "cell_type": "code",
      "metadata": {
        "id": "ekWgjyu-k7fo"
      },
      "source": [
        "plt.figure(figsize=(20,10))\n",
        "plt.scatter(a1_list, b1_list, label = \"Wartości parametrów modelu regresji\", color=\"orange\")\n",
        "# plt.text(0.987, 27,(\"Wartość maksymalna parametru a : \" + str(max(a1_list))), fontsize=12.0)\n",
        "# plt.text(0.987,25,(\"Wartość minimalna parametru a : \" + str(min(a1_list))), fontsize=12.0)\n",
        "# plt.text(0.987,23,(\"Wartość maksymalna parametru b : \" + str(max(b1_list))), fontsize=12.0)\n",
        "# plt.text(0.987,21,(\"Wartość minimalna parametru b : \" + str(min(b1_list))), fontsize=12.0)\n",
        "plt.xlabel(\"Wartości parametru a\", fontsize = 15.0)\n",
        "plt.ylabel(\"Wartości parametru b\", fontsize = 15.0)\n",
        "plt.title(\"Rozkład wartości parametrów a i b\", fontsize = 20.0)\n",
        "plt.legend(loc=1, fontsize=15.0)"
      ],
      "execution_count": null,
      "outputs": []
    },
    {
      "cell_type": "code",
      "metadata": {
        "id": "IbKIahiXoIRH"
      },
      "source": [
        "%reset"
      ],
      "execution_count": null,
      "outputs": []
    },
    {
      "cell_type": "markdown",
      "metadata": {
        "id": "qCnj2h9Ykutl"
      },
      "source": [
        "## **3. Regression for a polynomial function with normally distributed noise data**"
      ]
    },
    {
      "cell_type": "code",
      "metadata": {
        "id": "idFa44utk7ui"
      },
      "source": [
        "x = np.array(range(0, 500, 1))\n",
        "a = 0.1\n",
        "b = 1\n",
        "c = 20\n",
        "y = a*x**2 + b*x + c\n",
        "\n",
        "plt.figure(figsize=(20,10))\n",
        "plt.plot(x, y, color = \"r\", linewidth = 3, label= \"Krzywa o równaniu y = 0.1x$^2$ + 1x + 20\")\n",
        "plt.scatter(x,y, color= \"b\", label= \"Dane pomiarowe\")\n",
        "plt.xlabel(\"Wartości X\", fontsize=15.0)\n",
        "plt.ylabel(\"Wartości Y\", fontsize=15.0)\n",
        "plt.title(\"Wykres funkcji y = 0.1x$^2$ + 1x + 20\", fontsize=20.0)\n",
        "plt.legend(fontsize=15.0)\n",
        "\n",
        "plt.show()"
      ],
      "execution_count": null,
      "outputs": []
    },
    {
      "cell_type": "code",
      "metadata": {
        "id": "UJHaoZv-uQ9T"
      },
      "source": [
        "x = np.array(range(0, 500, 1))\n",
        "x1 = x.reshape(500,1)\n",
        "\n",
        "a = 0.1\n",
        "b = 1\n",
        "c = 20\n",
        "\n",
        "y = (a*x1**2)+b*x1 + c\n",
        "\n",
        "j = 0\n",
        "j_list = []\n",
        "\n",
        "a1_list = []\n",
        "b1_list = []\n",
        "c1_list = []\n",
        "\n",
        "a1_mean = []\n",
        "b1_mean = []\n",
        "c1_mean = []\n",
        "\n",
        "a1_std = []\n",
        "b1_std = []\n",
        "c1_std = []\n",
        "\n",
        "r2_list = []\n",
        "r2_mean = []\n",
        "\n",
        "for indeks in range(100):\n",
        "  j_list.append(j)\n",
        "  for i in range(100):\n",
        "    noise = np.random.normal(0, j, 500) # zdefiniowanie szumu o rozkładzie normalnym\n",
        "    noise2 = noise.reshape(500,1)\n",
        "    y1 = np.add(y, noise2) # dodanie szumu do niezaszumionej funkcji\n",
        "    polynomial_features= PolynomialFeatures(degree=2)\n",
        "    x_poly = polynomial_features.fit_transform(x1)\n",
        "    model = LinearRegression().fit(x_poly, y1) # zdefiniowanie i dopasowanie modelu regresji liniowej\n",
        "    y_poly_pred = model.predict(x_poly)\n",
        "    sorted_zip = sorted(zip(x,y_poly_pred))\n",
        "    x, y_poly_pred = zip(*sorted_zip)\n",
        "    a1 = model.coef_[0][2] # wyznaczenie współczynnika przy x^2\n",
        "    b1 = model.coef_[0][1] # wyznaczenie współczynnika przy x\n",
        "    c1 = model.intercept_[0] # wyznaczenie wyrazu wolnego\n",
        "    a1_list.append(float(a1))\n",
        "    b1_list.append(float(b1))\n",
        "    c1_list.append(float(c1))\n",
        "    y2 = a1*(x1**2) + b1*x1 + c1 \n",
        "    r_sq = r2_score(y, y2)  # wyznaczenie średnich wartości współczynnika determinacji r kwadrat\n",
        "    r2_list.append(r_sq) \n",
        "    \n",
        "    # plt.figure(figsize=(20,10))\n",
        "    # plt.xlim([-50,520])\n",
        "    # plt.ylim([-20,3200])\n",
        "    # plt.xlabel(\"Wartości X\", fontsize = 12.0)\n",
        "    # plt.ylabel(\"Wartości Y\", fontsize = 12.0)\n",
        "    # plt.text(0, 2600,(\"Odchylenie standardowe: \" + str(round(j, 1))), fontsize=12.0)\n",
        "    # plt.text(0, 2400,(\"Wartość oczekiwana: 0\"), fontsize=12.0)\n",
        "    \n",
        "    # plt.text(0, 3000, (\"Równanie krzywej: y = (\" + str(a) + \")$x^2$ + (\" + str(b) + \")x + \" + str(c)), fontsize=12.0)\n",
        "\n",
        "    # plt.text(0, 2800, (\"Współczynnik determinacji r kwadrat: \" + str(r_sq)), fontsize=12.0)\n",
        "    \n",
        "    # plt.scatter(x1, y1, color = \"blue\", label = \"Zaszumione dane pomiarowe\")\n",
        "    # plt.plot(x1, y2, color = \"red\", linewidth = 3, label= \"Regresja liniowa\")\n",
        "    # plt.legend(fontsize=12.0, loc=4, prop={'size': 12})\n",
        "    # plt.title(\"Model regresji liniowej z Gaussowskim rozkładem szumu dla funkcji wielomianowej\", fontsize=15.0)\n",
        "\n",
        "    \n",
        "    # if i < 10:\n",
        "    #     plt.savefig('images6/OPSI{0}.jpg'.format(i))\n",
        "    # else:\n",
        "    #     plt.savefig('images6/OPSI_{0}.jpg'.format(i))\n",
        "    # j += 0.1\n",
        "    #plt.show()\n",
        "\n",
        "  j += 0.1\n",
        "  mean_a = np.mean(a1_list)\n",
        "  a1_mean.append(mean_a)\n",
        "\n",
        "  mean_b = np.mean(b1_list)\n",
        "  b1_mean.append(mean_b)\n",
        "\n",
        "  mean_c = np.mean(c1_list)\n",
        "  c1_mean.append(mean_c)\n",
        "\n",
        "  std_a = np.std(a1_list)\n",
        "  a1_std.append(std_a)\n",
        "\n",
        "  std_b = np.std(b1_list)  \n",
        "  b1_std.append(std_b) \n",
        "\n",
        "  std_c = np.std(c1_list)  \n",
        "  c1_std.append(std_c) \n",
        "\n",
        "  mean_r2 = np.mean(r2_list)\n",
        "  r2_mean.append(mean_r2)"
      ],
      "execution_count": null,
      "outputs": []
    },
    {
      "cell_type": "markdown",
      "metadata": {
        "id": "b_cM34pNlIRI"
      },
      "source": [
        "**Save charts and create animations**"
      ]
    },
    {
      "cell_type": "code",
      "metadata": {
        "id": "LiZSgPOVlFgt"
      },
      "source": [
        "folder = '/content/images2'\n",
        "files = [f\"{folder}/{file}\" for file in sorted(os.listdir(folder))]\n",
        "photos = [imageio.imread(file) for file in files]\n",
        "imageio.mimwrite('/content/images2/polynomial.mkv', photos, fps=4)"
      ],
      "execution_count": null,
      "outputs": []
    },
    {
      "cell_type": "markdown",
      "metadata": {
        "id": "83LkctQNlMNr"
      },
      "source": [
        "**Presentation of charts**"
      ]
    },
    {
      "cell_type": "code",
      "metadata": {
        "id": "QFHiyGHNMd7B"
      },
      "source": [
        "plt.figure(figsize=(20,10))\n",
        "plt.scatter(j_list, a1_mean, color=\"green\", label=\"Średnia wartość parametru a\")\n",
        "plt.xlabel(\"Odchylenie standardowe szumu\", fontsize=15.0)\n",
        "plt.xticks(fontsize=13.0)\n",
        "plt.ylabel(\"Średnia wartość parametru a\", fontsize=15.0)\n",
        "plt.yticks(fontsize=13.0)\n",
        "print(str(max(a_mean)))\n",
        "# plt.text(0, 0.10000018,(\"Wartość minimalna średniej parametru a : \" + str(min(a1_mean))), fontsize=12.0)\n",
        "# plt.text(0, 0.1000002,(\"Wartość maksymalna średniej parametru a : \" + str(max(a1_mean))), fontsize=12.0)\n",
        "plt.title(\"Wykres zależności odchylenia standardowego szumu i średniej wartości parametru a\", fontsize=20.0)\n",
        "plt.legend(fontsize=15.0)\n",
        "plt.show()"
      ],
      "execution_count": null,
      "outputs": []
    },
    {
      "cell_type": "code",
      "metadata": {
        "id": "1nlyoVvKNTt1"
      },
      "source": [
        "plt.figure(figsize=(20,10))\n",
        "plt.scatter(j_list, b1_mean, color=\"blue\", label=\"Średnia wartość parametru b\")\n",
        "plt.xlabel(\"Odchylenie standardowe szumu\", fontsize=15.0)\n",
        "plt.xticks(fontsize=13.0)\n",
        "plt.ylabel(\"Średnia wartość parametru b\", fontsize=15.0)\n",
        "plt.yticks(fontsize=13.0)\n",
        "# plt.text(0,0.999950,(\"Wartość minimalna średniej parametru b : \" + str(min(b1_mean))), fontsize=12.0)\n",
        "# plt.text(0,0.999940,(\"Wartość maksymalna średniej parametru b : \" + str(max(b1_mean))), fontsize=12.0)\n",
        "plt.title(\"Wykres zależności odchylenia standardowego szumu i średniej wartości parametru b\", fontsize=20.0)\n",
        "plt.legend(fontsize=15.0)\n",
        "plt.show()"
      ],
      "execution_count": null,
      "outputs": []
    },
    {
      "cell_type": "code",
      "metadata": {
        "id": "w7oAWEEtQEyJ"
      },
      "source": [
        "plt.figure(figsize=(20,10))\n",
        "plt.scatter(j_list, c1_mean, color=\"red\", label=\"Średnia wartość parametru c\")\n",
        "plt.xlabel(\"Odchylenie standardowe szumu\", fontsize=15.0)\n",
        "plt.xticks(fontsize=13.0)\n",
        "plt.ylabel(\"Średnia wartość parametru c\", fontsize=15.0)\n",
        "plt.yticks(fontsize=13.0)\n",
        "# plt.text(0,20.0065,(\"Wartość minimalna średniej parametru c : \" + str(min(c1_mean))), fontsize=12.0)\n",
        "# plt.text(0,20.0075,(\"Wartość maksymalna średniej parametru c : \" + str(max(c1_mean))), fontsize=12.0)\n",
        "plt.title(\"Wykres zależności odchylenia standardowego szumu i średniej wartości parametru c\", fontsize=20.0)\n",
        "plt.legend(fontsize=15.0)\n",
        "plt.show()"
      ],
      "execution_count": null,
      "outputs": []
    },
    {
      "cell_type": "code",
      "metadata": {
        "id": "lUX8i9sJQFAe"
      },
      "source": [
        "plt.figure(figsize=(20,10))\n",
        "plt.scatter(j_list, a1_std, color=\"red\", label=\"Odchylenie standardowe parametru a\")\n",
        "plt.xlabel(\"Odchylenie standardowe szumu\", fontsize=15.0)\n",
        "plt.xticks(fontsize=13.0)\n",
        "plt.ylabel(\"Odchylenie standardowe parametru a\", fontsize=15.0)\n",
        "plt.yticks(fontsize=13.0)\n",
        "plt.title(\"Wykres zależności odchylenia standardowego szumu i odchylenia standardowego parametru a\", fontsize=20.0)\n",
        "plt.legend(fontsize=15.0)\n",
        "plt.show()"
      ],
      "execution_count": null,
      "outputs": []
    },
    {
      "cell_type": "code",
      "metadata": {
        "id": "kB7AxOCzQ_hP"
      },
      "source": [
        "plt.figure(figsize=(20,10))\n",
        "plt.scatter(j_list, b1_std, color=\"orange\", label=\"Odchylenie standardowe parametru b\")\n",
        "plt.xlabel(\"Odchylenie standardowe szumu\", fontsize=15.0)\n",
        "plt.xticks(fontsize=13.0)\n",
        "plt.ylabel(\"Odchylenie standardowe parametru b\", fontsize=15.0)\n",
        "plt.yticks(fontsize=13.0)\n",
        "plt.title(\"Wykres zależności odchylenia standardowego szumu i odchylenia standardowego parametru b\", fontsize=20.0)\n",
        "plt.legend(fontsize=15.0)\n",
        "plt.show()"
      ],
      "execution_count": null,
      "outputs": []
    },
    {
      "cell_type": "code",
      "metadata": {
        "id": "NGWx7RnPRMWa"
      },
      "source": [
        "plt.figure(figsize=(20,10))\n",
        "plt.scatter(j_list, c1_std, color=\"purple\", label=\"Odchylenie standardowe parametru c\")\n",
        "plt.xlabel(\"Odchylenie standardowe szumu\", fontsize=15.0)\n",
        "plt.xticks(fontsize=13.0)\n",
        "plt.ylabel(\"Odchylenie standardowe parametru c\", fontsize=15.0)\n",
        "plt.yticks(fontsize=13.0)\n",
        "plt.title(\"Wykres zależności odchylenia standardowego szumu i odchylenia standardowego parametru c\", fontsize=20.0)\n",
        "plt.legend(fontsize=15.0)\n",
        "plt.show()"
      ],
      "execution_count": null,
      "outputs": []
    },
    {
      "cell_type": "code",
      "metadata": {
        "id": "7ddYaig8cjIL"
      },
      "source": [
        "plt.figure(figsize=(20,10))\n",
        "plt.scatter(j_list, r2_mean, color=\"cyan\", label=\"Średnia wartość współczynnika determinacji r kwadrat\")\n",
        "plt.xlabel(\"Odchylenie standardowe szumu\", fontsize=15.0)\n",
        "plt.xticks(fontsize=13.0)\n",
        "plt.ylabel(\"Średnia wartość współczynnika determinacji r kwadrat\", fontsize=15.0)\n",
        "plt.yticks(fontsize=13.0)\n",
        "plt.title(\"Wykres zależności odchylenia standardowego szumu i średniej wartości współczynnika determinacji r kwadrat\", fontsize=15.0)\n",
        "plt.legend(fontsize=15.0)\n",
        "plt.savefig(\"r2_mean.jpg\")\n",
        "plt.show()"
      ],
      "execution_count": null,
      "outputs": []
    },
    {
      "cell_type": "code",
      "metadata": {
        "colab": {
          "base_uri": "https://localhost:8080/"
        },
        "id": "NzMw8FCTc0r0",
        "outputId": "b6c1df16-aad1-4def-e0a1-60f8322d7742"
      },
      "source": [
        "%reset"
      ],
      "execution_count": null,
      "outputs": [
        {
          "output_type": "stream",
          "text": [
            "Once deleted, variables cannot be recovered. Proceed (y/[n])? y\n"
          ],
          "name": "stdout"
        }
      ]
    },
    {
      "cell_type": "markdown",
      "metadata": {
        "id": "6mkUzXuck1hI"
      },
      "source": [
        "## **4. Regression of a logarithmic function without exponent transformation - nonlinear problem**"
      ]
    },
    {
      "cell_type": "code",
      "metadata": {
        "colab": {
          "base_uri": "https://localhost:8080/",
          "height": 632
        },
        "id": "Ee0SrnUqsM4J",
        "outputId": "8d47b47d-ac5d-44e0-e558-23a19d0d9277"
      },
      "source": [
        "x = np.array(range(0, 500, 1))\n",
        "a = 1\n",
        "b = 20\n",
        "y = np.log(a*x+b)\n",
        "\n",
        "plt.figure(figsize=(20,10))\n",
        "plt.plot(x, y, color = \"r\", linewidth = 3, label= \"Wykres funkcji logarytmicznej y = log(x + 20)\")\n",
        "plt.scatter(x,y, color= \"b\", label= \"Dane pomiarowe\")\n",
        "plt.xlabel(\"Wartości X\", fontsize=15.0)\n",
        "plt.ylabel(\"Wartości Y\", fontsize=15.0)\n",
        "plt.title(\"Wykres funkcji logarytmicznej y = log(x + 20)\", fontsize=20.0)\n",
        "plt.legend(fontsize=15.0)\n",
        "\n",
        "plt.show()"
      ],
      "execution_count": null,
      "outputs": [
        {
          "output_type": "display_data",
          "data": {
            "image/png": "[encoded data removed]",
            "text/plain": [
              "<Figure size 1440x720 with 1 Axes>"
            ]
          },
          "metadata": {
            "tags": [],
            "needs_background": "light"
          }
        }
      ]
    },
    {
      "cell_type": "code",
      "metadata": {
        "id": "dWk4y8Klx5t4"
      },
      "source": [
        "x = np.array(range(0, 500, 1))\n",
        "a = 1\n",
        "b = 20\n",
        "def func(x, a, b):\n",
        "      return np.log(a*x + b)\n",
        "    \n",
        "y = func(x, a, b)\n",
        "\n",
        "j = 0\n",
        "j_list = []\n",
        "\n",
        "a1_list = []\n",
        "b1_list = []\n",
        "\n",
        "a1_mean = []\n",
        "b1_mean = []\n",
        "\n",
        "a1_std = []\n",
        "b1_std = []\n",
        "\n",
        "r2_list = []\n",
        "r2_mean = []\n",
        "\n",
        "for indeks in range(100):\n",
        "  j_list.append(j)\n",
        "  for i in range(100):\n",
        "    noise = np.random.normal(0, j, 500) # zdefiniowanie szumu o rozkładzie normalnym\n",
        "    y1 = y + noise # dodanie szumu do niezaszumionej prostej \n",
        "    popt, pcov = curve_fit(func, x, y1) # dopasowanie krzywej\n",
        "    a1 = popt[0] # wyznaczenie współczynnika przy x\n",
        "    b1 = popt[1] # wyznaczenie wyrazu wolnego\n",
        "    a1_list.append(float(a1))\n",
        "    b1_list.append(float(b1))\n",
        "    y2 = func(x, a1, b1)\n",
        "    r_sq = r2_score(y, y2) # wyznaczenie średnich wartości współczynnika determinacji r kwadrat\n",
        "    r2_list.append(r_sq)  \n",
        "\n",
        "    # plt.figure(figsize=(20,10))\n",
        "    # plt.ylim([0, 10])\n",
        "    # plt.xlabel(\"Wartości X\", fontsize = 12.0)\n",
        "    # plt.ylabel(\"Wartości Y\", fontsize = 12.0)\n",
        "    # plt.text(0, 9, (\"Odchylenie standardowe: \" + str(round(j, 2))), fontsize=12.0)\n",
        "    # plt.text(0, 8.5,(\"Wartość oczekiwana: 0\"), fontsize=12.0)\n",
        "    # plt.text(0, 9.5, (\"Równanie funkcji logarytmicznej: y =log(\"+ str(a1)+ \"x + \" + str(b1) + \")\"), fontsize=12.0)\n",
        "    \n",
        "    # plt.scatter(x, y1, color = \"blue\", label = \"Zaszumione dane pomiarowe\")\n",
        "    # plt.plot(x, y2, color = \"red\", linewidth = 3, label= \"Model dopasowanej krzywej\")\n",
        "    # plt.legend(fontsize=12.0, loc=4, prop={'size': 12})\n",
        "    # plt.title(\"Model dopasowanej krzywej do danych z Gaussowskim rozkładem szumu dla funkcji logarytmicznej\", fontsize=15.0)\n",
        "    # plt.show()\n",
        "    # if i < 10:\n",
        "    #     plt.savefig('images2/OPSI{0}.jpg'.format(i))\n",
        "    # else:\n",
        "    #     plt.savefig('images2/OPSI_{0}.jpg'.format(i))\n",
        "    \n",
        "  j += 0.01\n",
        "\n",
        "  mean_a = np.mean(a1_list)\n",
        "  a1_mean.append(mean_a)\n",
        "\n",
        "  mean_b = np.mean(b1_list)\n",
        "  b1_mean.append(mean_b)\n",
        "\n",
        "  std_a = np.std(a1_list)\n",
        "  a1_std.append(std_a)\n",
        "\n",
        "  std_b = np.std(b1_list)  \n",
        "  b1_std.append(std_b) \n",
        "\n",
        "  mean_r2 = np.mean(r2_list)\n",
        "  r2_mean.append(mean_r2)"
      ],
      "execution_count": null,
      "outputs": []
    },
    {
      "cell_type": "markdown",
      "metadata": {
        "id": "umbCeOvek-j9"
      },
      "source": [
        "**Save charts and create animations**"
      ]
    },
    {
      "cell_type": "code",
      "metadata": {
        "id": "YXgtCS5880eE"
      },
      "source": [
        "folder = '/content/images2'\n",
        "files = [f\"{folder}/{file}\" for file in sorted(os.listdir(folder))]\n",
        "photos = [imageio.imread(file) for file in files]\n",
        "imageio.mimwrite('/content/images2/log.mkv', photos, fps=4)"
      ],
      "execution_count": null,
      "outputs": []
    },
    {
      "cell_type": "markdown",
      "metadata": {
        "id": "tXMBPiS3lBBO"
      },
      "source": [
        "**Presentation of charts**"
      ]
    },
    {
      "cell_type": "code",
      "metadata": {
        "id": "ncL0yBdW28cn"
      },
      "source": [
        "plt.figure(figsize=(20,10))\n",
        "plt.scatter(j_list, a_mean, color=\"green\", label=\"Średnia wartość parametru a\")\n",
        "plt.xlabel(\"Odchylenie standardowe szumu\", fontsize=15.0)\n",
        "plt.xticks(fontsize=13.0)\n",
        "plt.ylabel(\"Średnia wartość parametru a\", fontsize=15.0)\n",
        "plt.yticks(fontsize=13.0)\n",
        "#plt.text(0, 1.0005, (\"Wartość minimalna średniej parametru a : \" + str(min(a1_mean))), fontsize=12.0)\n",
        "#plt.text(0, 1.00053,(\"Wartość maksymalna średniej parametru a : \" + str(max(a1_mean))), fontsize=12.0)\n",
        "plt.title(\"Wykres zależności odchylenia standardowego szumu i średniej wartości parametru a\", fontsize=20.0)\n",
        "plt.legend(fontsize=15.0)\n",
        "plt.show()"
      ],
      "execution_count": null,
      "outputs": []
    },
    {
      "cell_type": "code",
      "metadata": {
        "id": "1y5xCZSn5Z81"
      },
      "source": [
        "plt.figure(figsize=(20,10))\n",
        "plt.scatter(j_list, b1_mean, color=\"blue\", label=\"Średnia wartość parametru b\")\n",
        "plt.xlabel(\"Odchylenie standardowe szumu\", fontsize=15.0)\n",
        "plt.xticks(fontsize=13.0)\n",
        "plt.ylabel(\"Średnia wartość parametru b\", fontsize=15.0)\n",
        "plt.yticks(fontsize=13.0)\n",
        "#plt.text(0, 20.08,(\"Wartość minimalna średniej parametru b : \" + str(min(b1_mean))), fontsize=12.0)\n",
        "#plt.text(0,20.09,(\"Wartość maksymalna średniej parametru b : \" + str(max(b1_mean))), fontsize=12.0)\n",
        "plt.title(\"Wykres zależności odchylenia standardowego szumu i średniej wartości parametru b\", fontsize=20.0)\n",
        "plt.legend(fontsize=15.0)\n",
        "plt.show()"
      ],
      "execution_count": null,
      "outputs": []
    },
    {
      "cell_type": "code",
      "metadata": {
        "id": "JQ2hLNMS6aKe"
      },
      "source": [
        "plt.figure(figsize=(20,10))\n",
        "plt.scatter(j_list, a1_std, color=\"red\", label=\"Odchylenie standardowe parametru a\")\n",
        "plt.xlabel(\"Odchylenie standardowe szumu\", fontsize=15.0)\n",
        "plt.xticks(fontsize=13.0)\n",
        "plt.ylabel(\"Odchylenie standardowe parametru a\", fontsize=15.0)\n",
        "plt.yticks(fontsize=13.0)\n",
        "plt.title(\"Wykres zależności odchylenia standardowego szumu i odchylenia standardowego parametru a\", fontsize=20.0)\n",
        "plt.legend(fontsize=15.0)\n",
        "plt.show()"
      ],
      "execution_count": null,
      "outputs": []
    },
    {
      "cell_type": "code",
      "metadata": {
        "id": "QoPEs17O6gOs"
      },
      "source": [
        "plt.figure(figsize=(20,10))\n",
        "plt.scatter(j_list, b1_std, color=\"purple\", label=\"Odchylenie standardowe parametru b\")\n",
        "plt.xlabel(\"Odchylenie standardowe szumu\", fontsize=15.0)\n",
        "plt.xticks(fontsize=13.0)\n",
        "plt.ylabel(\"Odchylenie standardowe parametru b\", fontsize=15.0)\n",
        "plt.yticks(fontsize=13.0)\n",
        "plt.title(\"Wykres zależności odchylenia standardowego szumu i odchylenia standardowego parametru b\", fontsize=20.0)\n",
        "plt.legend(fontsize=15.0)\n",
        "plt.show()"
      ],
      "execution_count": null,
      "outputs": []
    },
    {
      "cell_type": "code",
      "metadata": {
        "id": "NFHalkcIK-Rr"
      },
      "source": [
        "plt.figure(figsize=(20,10))\n",
        "plt.scatter(j_list, r2_mean, color=\"cyan\", label=\"Średnia wartość współczynnika determinacji r kwadrat\")\n",
        "plt.xlabel(\"Odchylenie standardowe szumu\", fontsize=15.0)\n",
        "plt.xticks(fontsize=13.0)\n",
        "plt.ylabel(\"Średnia wartość współczynnika determinacji r kwadrat\", fontsize=15.0)\n",
        "plt.yticks(fontsize=13.0)\n",
        "plt.title(\"Wykres zależności odchylenia standardowego szumu i średniej wartości współczynnika determinacji r kwadrat\", fontsize=15.0)\n",
        "plt.legend(fontsize=15.0)\n",
        "plt.savefig(\"r2_mean.jpg\")\n",
        "plt.show()"
      ],
      "execution_count": null,
      "outputs": []
    },
    {
      "cell_type": "code",
      "metadata": {
        "id": "YxP3HacN612s",
        "colab": {
          "base_uri": "https://localhost:8080/",
          "height": 652
        },
        "outputId": "434505a8-192f-4139-8c9e-f15e84d276bb"
      },
      "source": [
        "plt.figure(figsize=(20,10))\n",
        "plt.scatter(a_list, b_list, label = \"Wartości parametrów a i b dopasowanej krzywej\", color=\"orange\")\n",
        "#plt.text(0.76, 53,(\"Wartość maksymalna parametru a : \" + str(max(a_list))), fontsize=12.0)\n",
        "#plt.text(0.76,51,(\"Wartość minimalna parametru a : \" + str(min(a_list))), fontsize=12.0)\n",
        "#plt.text(0.76,49,(\"Wartość maksymalna parametru b : \" + str(max(b_list))), fontsize=12.0)\n",
        "#plt.text(0.76,47,(\"Wartość minimalna parametru b : \" + str(min(b_list))), fontsize=12.0)\n",
        "plt.ylim([5,55])\n",
        "plt.xlabel(\"Wartości parametru a\", fontsize = 15.0)\n",
        "plt.ylabel(\"Wartości parametru b\", fontsize = 15.0)\n",
        "plt.title(\"Rozkład wartości parametrów a i b\", fontsize = 20.0)\n",
        "plt.legend(loc=1, fontsize=15.0)"
      ],
      "execution_count": null,
      "outputs": [
        {
          "output_type": "execute_result",
          "data": {
            "text/plain": [
              "<matplotlib.legend.Legend at 0x7f00da6c5650>"
            ]
          },
          "metadata": {
            "tags": []
          },
          "execution_count": 64
        },
        {
          "output_type": "display_data",
          "data": {
            "image/png": "[encoded data removed]",
            "text/plain": [
              "<Figure size 1440x720 with 1 Axes>"
            ]
          },
          "metadata": {
            "tags": [],
            "needs_background": "light"
          }
        }
      ]
    },
    {
      "cell_type": "code",
      "metadata": {
        "id": "RfzVs6fflZ3t"
      },
      "source": [
        "%reset"
      ],
      "execution_count": null,
      "outputs": []
    },
    {
      "cell_type": "markdown",
      "metadata": {
        "id": "-jVdi5T0lVep"
      },
      "source": [
        "## **5.Regression for exponent-transformed logarithmic function**\n"
      ]
    },
    {
      "cell_type": "code",
      "metadata": {
        "id": "bPL66BGO89DO"
      },
      "source": [
        "x = np.array(range(0, 500, 1))\n",
        "x.sort()\n",
        "a = 1\n",
        "b = 20\n",
        "y = np.log(a*x+b)\n",
        "plt.figure(figsize=(20,10))\n",
        "plt.plot(x, y, color = \"r\", linewidth = 3, label= \"Funkcja logarytmiczna y = log(x + 20)\")\n",
        "plt.scatter(x, y, color= \"b\", label= \"Dane pomiarowe\")\n",
        "plt.xlabel(\"Wartości X\", fontsize=15.0)\n",
        "plt.ylabel(\"Wartości Y\", fontsize=15.0)\n",
        "plt.title(\"Wykres funkcji logarytmicznej y = log(x + 20)\", fontsize=20.0)\n",
        "plt.legend(fontsize=15.0)\n",
        "\n",
        "plt.show()\n"
      ],
      "execution_count": null,
      "outputs": []
    },
    {
      "cell_type": "code",
      "metadata": {
        "id": "55xwQBhJ9HIh"
      },
      "source": [
        "x = np.array(range(0, 500, 1))\n",
        "x.sort()\n",
        "a = 1\n",
        "b = 20\n",
        "y = np.log(a*x+b)\n",
        "y1 = np.exp(y) #ax+b\n",
        "plt.figure(figsize=(20,10))\n",
        "plt.plot(x, y1, color = \"r\", linewidth = 3, label= \"Prosta będąca funkcją logarytmiczną przekształconą eksponentą y = $e^{log(x + 20)}$\")\n",
        "plt.scatter(x, y1, color= \"b\", label= \"Dane pomiarowe\")\n",
        "plt.xlabel(\"Wartości X\", fontsize=15.0)\n",
        "plt.ylabel(\"Wartości Y\", fontsize=15.0)\n",
        "plt.title(\"Wykres funkcji logarytmicznej przekształconej eksponentą y = $e^{log(x + 20)}$\", fontsize=20.0)\n",
        "plt.legend(fontsize=15.0)\n",
        "\n",
        "plt.show()\n"
      ],
      "execution_count": null,
      "outputs": []
    },
    {
      "cell_type": "code",
      "metadata": {
        "id": "ajFtgzqUDA4F"
      },
      "source": [
        "x = np.array(range(0, 500, 1))\n",
        "x = x.reshape(-1,1)\n",
        "\n",
        "a = 1\n",
        "b = 20\n",
        "\n",
        "y = np.log(a*x + b)\n",
        "y1 = np.exp(y)\n",
        "\n",
        "j = 0\n",
        "j_list = []\n",
        "\n",
        "a1_list = []\n",
        "b1_list = []\n",
        "\n",
        "a1_mean = []\n",
        "b1_mean = []\n",
        "\n",
        "a1_std = []\n",
        "b1_std = []\n",
        "\n",
        "r2_list = []\n",
        "r2_mean = []\n",
        "\n",
        "for indeks in range(100):\n",
        "  j_list.append(j)\n",
        "  for i in range(100):\n",
        "    noise = np.random.normal(0, j, 500) # zdefiniowanie szumu o rozkładzie normalnym\n",
        "    noise2 = noise.reshape(500,1)\n",
        "    y2 = np.exp(y+noise2) # dodanie szumu do niezaszumionej prostej, następnie przekształcenie eksponentą\n",
        "    model = LinearRegression().fit(x, y2) # zdefiniowanie i dopasowanie modelu regresji liniowej \n",
        "    a1 = model.coef_ # wyznaczenie współczynnika przy x\n",
        "    b1 = model.intercept_ # wyznaczenie wyrazu wolnego\n",
        "    a1_list.append(float(a1[0]))\n",
        "    b1_list.append(float(b1[0]))\n",
        "    y3 = a1*x + b1\n",
        "    r_sq = r2_score(y1, y3) # wyznaczenie średnich wartości współczynnika determinacji r kwadrat\n",
        "    r2_list.append(r_sq)\n",
        "   \n",
        "    # plt.figure(figsize=(20,10))\n",
        "    # plt.xlim([-30,510])\n",
        "    # plt.ylim([-400, 3500])\n",
        "    # plt.xlabel(\"Wartości X\", fontsize = 15.0)\n",
        "    # plt.ylabel(\"Wartości Y\", fontsize = 15.0)\n",
        "    # plt.text(-20,2900,(\"Odchylenie standardowe: \" + str(round(j, 2))), fontsize=15.0)\n",
        "    # plt.text(-20,2700,(\"Wartość oczekiwana: 0\"), fontsize=15.0)\n",
        "    # plt.text(-20,3300, (\"Równanie prostej regresji: y = (\" + str(a1[0][0]) + \")x + \" + str(b1[0])), fontsize=15.0)\n",
        "    # plt.text(-20,3100, (\"Współczynnik determinacji r kwadrat: \" + str(r_sq)), fontsize=15.0)\n",
        "    # plt.scatter(x, y2, color = \"blue\", label = \"Zaszumione dane pomiarowe\")\n",
        "    # plt.plot(x, y3, color = \"red\", linewidth = 3, label= \"Regresja liniowa\")\n",
        "    # plt.legend(fontsize=15.0, loc=4, prop={'size': 15})\n",
        "    # plt.title(\"Model regresji liniowej z Gaussowskim rozkładem szumu\", fontsize=20.0)\n",
        "\n",
        "    # if i < 10:\n",
        "    #   plt.savefig('images4/OPSI{0}.jpg'.format(i))\n",
        "    # else:\n",
        "    #   plt.savefig('images4/OPSI_{0}.jpg'.format(i))\n",
        "    # plt.show()\n",
        "   \n",
        "  j += 0.01\n",
        "    \n",
        "  mean_a = np.mean(a1_list)\n",
        "  a1_mean.append(mean_a)\n",
        "\n",
        "  mean_b = np.mean(b1_list)\n",
        "  b1_mean.append(mean_b)\n",
        "\n",
        "  std_a = np.std(a1_list)\n",
        "  a1_std.append(std_a)\n",
        "\n",
        "  std_b = np.std(b1_list)  \n",
        "  b1_std.append(std_b) \n",
        "  \n",
        "  mean_r2 = np.mean(r2_list)\n",
        "  r2_mean.append(mean_r2)"
      ],
      "execution_count": null,
      "outputs": []
    },
    {
      "cell_type": "markdown",
      "metadata": {
        "id": "EkAqufc3jVCV"
      },
      "source": [
        " **Save charts and create animations**"
      ]
    },
    {
      "cell_type": "code",
      "metadata": {
        "id": "hUmUYPJuUYmB"
      },
      "source": [
        "folder = '/content/images4'\n",
        "files = [f\"{folder}/{file}\" for file in sorted(os.listdir(folder))]\n",
        "photos = [imageio.imread(file) for file in files]\n",
        "imageio.mimwrite('/content/images4/regression_log_exp_01.mkv', photos, fps=4)"
      ],
      "execution_count": null,
      "outputs": []
    },
    {
      "cell_type": "markdown",
      "metadata": {
        "id": "xEM_JlUJljLK"
      },
      "source": [
        "**Presentation of charts**"
      ]
    },
    {
      "cell_type": "code",
      "metadata": {
        "id": "jWV8LM8e6xbf"
      },
      "source": [
        "plt.figure(figsize=(20,10))\n",
        "plt.scatter(j_list, a1_mean, color=\"green\", label=\"Średnia wartość parametru a\")\n",
        "plt.xlabel(\"Odchylenie standardowe szumu\", fontsize=15.0)\n",
        "plt.xticks(fontsize=13.0)\n",
        "plt.ylabel(\"Średnia wartość parametru a\", fontsize=15.0)\n",
        "plt.yticks(fontsize=13.0)\n",
        "plt.text(0,1.165,(\"Wartość minimalna średniej parametru a : \" + str(min(a1_mean))), fontsize=12.0)\n",
        "plt.text(0,1.175,(\"Wartość maksymalna średniej parametru a : \" + str(max(a1_mean))), fontsize=12.0)\n",
        "plt.title(\"Wykres zależności odchylenia standardowego szumu i średniej wartości parametru a\", fontsize=20.0)\n",
        "plt.legend(fontsize=15.0)\n",
        "plt.show()"
      ],
      "execution_count": null,
      "outputs": []
    },
    {
      "cell_type": "code",
      "metadata": {
        "id": "03ekCq3p-PeF"
      },
      "source": [
        "plt.figure(figsize=(20,10))\n",
        "plt.scatter(j_list, b1_mean, color=\"blue\", label=\"Średnia wartość parametru b\")\n",
        "plt.xlabel(\"Odchylenie standardowe szumu\", fontsize=15.0)\n",
        "plt.xticks(fontsize=13.0)\n",
        "plt.ylabel(\"Średnia wartość parametru b\", fontsize=15.0)\n",
        "plt.yticks(fontsize=13.0)\n",
        "plt.text(0,23.3,(\"Wartość minimalna średniej parametru b : \" + str(min(b1_mean))), fontsize=12.0)\n",
        "plt.text(0,23.5,(\"Wartość maksymalna średniej parametru b : \" + str(max(b1_mean))), fontsize=12.0)\n",
        "plt.title(\"Wykres zależności odchylenia standardowego szumu i średniej wartości parametru b\", fontsize=20.0)\n",
        "plt.legend(fontsize=15.0)\n",
        "plt.show()"
      ],
      "execution_count": null,
      "outputs": []
    },
    {
      "cell_type": "code",
      "metadata": {
        "id": "8Ds9pyf6-PxK"
      },
      "source": [
        "plt.figure(figsize=(20,10))\n",
        "plt.scatter(j_list, a1_std, color=\"red\", label=\"Odchylenie standardowe parametru a\")\n",
        "plt.xlabel(\"Odchylenie standardowe szumu\", fontsize=15.0)\n",
        "plt.xticks(fontsize=13.0)\n",
        "plt.ylabel(\"Odchylenie standardowe parametru a\", fontsize=15.0)\n",
        "plt.yticks(fontsize=13.0)\n",
        "plt.title(\"Wykres zależności odchylenia standardowego szumu i odchylenia standardowego parametru a\", fontsize=20.0)\n",
        "plt.legend(fontsize=15.0)\n",
        "plt.show()"
      ],
      "execution_count": null,
      "outputs": []
    },
    {
      "cell_type": "code",
      "metadata": {
        "id": "Eq9x4Idq-P_7"
      },
      "source": [
        "plt.figure(figsize=(20,10))\n",
        "plt.scatter(j_list, b1_std, color=\"purple\", label=\"Odchylenie standardowe parametru b\")\n",
        "plt.xlabel(\"Odchylenie standardowe szumu\", fontsize=15.0)\n",
        "plt.xticks(fontsize=13.0)\n",
        "plt.ylabel(\"Odchylenie standardowe parametru b\", fontsize=15.0)\n",
        "plt.yticks(fontsize=13.0)\n",
        "plt.title(\"Wykres zależności odchylenia standardowego szumu i odchylenia standardowego parametru b\", fontsize=20.0)\n",
        "plt.legend(fontsize=15.0)\n",
        "plt.show()"
      ],
      "execution_count": null,
      "outputs": []
    },
    {
      "cell_type": "code",
      "metadata": {
        "id": "j32jP2KR-QKI"
      },
      "source": [
        "plt.figure(figsize=(20,10))\n",
        "plt.scatter(j_list, r2_mean, color=\"cyan\", label=\"Średnia wartość współczynnika determinacji r kwadrat\")\n",
        "plt.xlabel(\"Odchylenie standardowe szumu\", fontsize=15.0)\n",
        "plt.xticks(fontsize=13.0)\n",
        "plt.ylabel(\"Średnia wartość współczynnika determinacji r kwadrat\", fontsize=15.0)\n",
        "plt.yticks(fontsize=13.0)\n",
        "plt.title(\"Wykres zależności odchylenia standardowego szumu i średniej wartości współczynnika determinacji r kwadrat\", fontsize=15.0)\n",
        "plt.legend(fontsize=15.0)\n",
        "plt.savefig(\"r2_mean.jpg\")\n",
        "plt.show()"
      ],
      "execution_count": null,
      "outputs": []
    },
    {
      "cell_type": "code",
      "metadata": {
        "id": "qtiGNegX-QWq"
      },
      "source": [
        "plt.figure(figsize=(20,10))\n",
        "plt.scatter(a1_list, b1_list, label = \"Wartości parametrów modelu regresji\", color=\"orange\")\n",
        "#plt.text(2.1, 125,(\"Wartość maksymalna parametru a : \" + str(max(a1_list))), fontsize=12.0)\n",
        "#plt.text(2.1,110,(\"Wartość minimalna parametru a : \" + str(min(a1_list))), fontsize=12.0)\n",
        "#plt.text(2.1,95,(\"Wartość maksymalna parametru b : \" + str(max(b1_list))), fontsize=12.0)\n",
        "#plt.text(2.1,80,(\"Wartość minimalna parametru b : \" + str(min(b1_list))), fontsize=12.0)\n",
        "plt.xlabel(\"Wartości parametru a\", fontsize = 15.0)\n",
        "plt.ylabel(\"Wartości parametru b\", fontsize = 15.0)\n",
        "plt.title(\"Rozkład wartości parametrów a i b\", fontsize = 20.0)\n",
        "plt.legend(loc=1, fontsize=15.0)"
      ],
      "execution_count": null,
      "outputs": []
    },
    {
      "cell_type": "code",
      "metadata": {
        "id": "a1rDp17ullRV"
      },
      "source": [
        "%reset"
      ],
      "execution_count": null,
      "outputs": []
    }
  ]
}